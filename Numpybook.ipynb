{
 "cells": [
  {
   "cell_type": "code",
   "execution_count": 8,
   "id": "17500e49",
   "metadata": {},
   "outputs": [
    {
     "data": {
      "text/plain": [
       "['America/New_York', 'Europe/London']"
      ]
     },
     "execution_count": 8,
     "metadata": {},
     "output_type": "execute_result"
    }
   ],
   "source": [
    "records = [{'tz': 'America/New_York'}, {'tz': 'Europe/London'}]\n",
    "time_zones = [rec.get('tz') for rec in records if isinstance(rec, dict) and 'tz' in rec]\n",
    "\n",
    "time_zones[:10]\n",
    "\n",
    "           \n",
    "\n"
   ]
  },
  {
   "cell_type": "code",
   "execution_count": null,
   "id": "965367c6",
   "metadata": {},
   "outputs": [
    {
     "data": {
      "text/plain": [
       "{0: 0.2926534293749905,\n",
       " 1: -0.019798864395955743,\n",
       " 2: -0.8863263098567264,\n",
       " 3: 0.6423309488384955,\n",
       " 4: 1.3465391170046357,\n",
       " 5: -0.1111220892134187,\n",
       " 6: -0.5390190472029415}"
      ]
     },
     "execution_count": 12,
     "metadata": {},
     "output_type": "execute_result"
    }
   ],
   "source": [
    "import numpy as np\n",
    "from numpy.random import randn\n",
    "data = {i : randn() for i in range(7)}\n",
    "data\n",
    "data"
   ]
  },
  {
   "cell_type": "code",
   "execution_count": 15,
   "id": "49971f3a",
   "metadata": {},
   "outputs": [],
   "source": [
    "\n",
    "def add_data(a, b):\n",
    "    \"\"\"Add two numbers.\"\"\"\n",
    "    return a + b"
   ]
  },
  {
   "cell_type": "code",
   "execution_count": 18,
   "id": "52613813",
   "metadata": {},
   "outputs": [
    {
     "name": "stdout",
     "output_type": "stream",
     "text": [
      "np.__loader__\n",
      "np.load\n",
      "np.loadtxt"
     ]
    }
   ],
   "source": [
    "np.*load*?\n"
   ]
  },
  {
   "cell_type": "code",
   "execution_count": 1,
   "id": "6ac0b83d",
   "metadata": {},
   "outputs": [
    {
     "ename": "NameError",
     "evalue": "name 'data' is not defined",
     "output_type": "error",
     "traceback": [
      "\u001b[31m---------------------------------------------------------------------------\u001b[39m",
      "\u001b[31mNameError\u001b[39m                                 Traceback (most recent call last)",
      "\u001b[36mCell\u001b[39m\u001b[36m \u001b[39m\u001b[32mIn[1]\u001b[39m\u001b[32m, line 3\u001b[39m\n\u001b[32m      1\u001b[39m \u001b[38;5;28;01mimport\u001b[39;00m\u001b[38;5;250m \u001b[39m\u001b[34;01mnumpy\u001b[39;00m\u001b[38;5;250m \u001b[39m\u001b[38;5;28;01mas\u001b[39;00m\u001b[38;5;250m \u001b[39m\u001b[34;01mnp\u001b[39;00m\n\u001b[32m      2\u001b[39m \u001b[38;5;28;01mfrom\u001b[39;00m\u001b[38;5;250m \u001b[39m\u001b[34;01mnumpy\u001b[39;00m\u001b[34;01m.\u001b[39;00m\u001b[34;01mrandom\u001b[39;00m\u001b[38;5;250m \u001b[39m\u001b[38;5;28;01mimport\u001b[39;00m randn\n\u001b[32m----> \u001b[39m\u001b[32m3\u001b[39m \u001b[43mdata\u001b[49m\n",
      "\u001b[31mNameError\u001b[39m: name 'data' is not defined"
     ]
    }
   ],
   "source": [
    "import numpy as np\n",
    "from numpy.random import randn\n",
    "data"
   ]
  },
  {
   "cell_type": "code",
   "execution_count": null,
   "id": "d8ead651",
   "metadata": {},
   "outputs": [
    {
     "name": "stdout",
     "output_type": "stream",
     "text": [
      "[6.  7.5 8.  0.  1. ]\n",
      "[[1 2 3 4]\n",
      " [5 6 7 8]]\n",
      "2\n",
      "(2, 4)\n",
      "float64\n",
      "int64\n",
      "[0. 0. 0. 0. 0. 0. 0. 0. 0. 0.]\n",
      "[[0. 0. 0. 0. 0. 0.]\n",
      " [0. 0. 0. 0. 0. 0.]\n",
      " [0. 0. 0. 0. 0. 0.]]\n",
      "[[[7.27733070e-312 2.81617418e-322]\n",
      "  [0.00000000e+000 0.00000000e+000]\n",
      "  [4.24512503e+175 2.42336543e-057]]\n",
      "\n",
      " [[7.42763974e-091 1.79616205e-052]\n",
      "  [8.26682643e-072 1.53459004e-075]\n",
      "  [6.48224659e+170 4.93432906e+257]]]\n"
     ]
    },
    {
     "data": {
      "text/plain": [
       "array([ 0,  1,  2,  3,  4,  5,  6,  7,  8,  9, 10, 11, 12, 13, 14])"
      ]
     },
     "execution_count": 19,
     "metadata": {},
     "output_type": "execute_result"
    }
   ],
   "source": [
    "data = [6, 7.5, 8, 0, 1]\n",
    "arr1 = np.array(data)\n",
    "print(arr1)\n",
    "data2 = [[1, 2, 3, 4], [5, 6, 7, 8]]\n",
    "arr2 = np.array(data2)\n",
    "print(arr2)\n",
    "print(arr2.ndim)\n",
    "print(arr2.shape)\n",
    "print(arr1.dtype)\n",
    "print(arr2.dtype)\n",
    "\n",
    "print(np.zeros(10))\n",
    "print(np.zeros((3,6)))\n",
    "print(np.empty((2,3,2)))\n",
    "\n",
    "np.arange(15)\n",
    "\n",
    "\n",
    "\n"
   ]
  },
  {
   "cell_type": "code",
   "execution_count": 20,
   "id": "9a1fe695",
   "metadata": {},
   "outputs": [
    {
     "data": {
      "text/plain": [
       "array([ 0,  1,  2,  3,  4,  5,  6,  7,  8,  9, 10, 11, 12, 13, 14])"
      ]
     },
     "execution_count": 20,
     "metadata": {},
     "output_type": "execute_result"
    }
   ],
   "source": [
    "import numpy as np\n",
    "from numpy.random import randn\n",
    "np.arange(15)"
   ]
  },
  {
   "cell_type": "markdown",
   "id": "978505c3",
   "metadata": {},
   "source": [
    "Function Description\n",
    "array: Convert input data (list, tuple, array, or other sequence type) to an ndarray either by\n",
    "inferring a dtype or explicitly specifying a dtype. Copies the input data by default.\n",
    "\n",
    "asarray: Convert input to ndarray, but do not copy if the input is already an ndarray\n",
    "\n",
    "arange: Like the built-in range but returns an ndarray instead of a list.\n",
    "\n",
    "ones, ones_like: Produce an array of all 1’s with the given shape and dtype. ones_like takes another array and produces a ones array of the same shape and dtype.\n",
    "\n",
    "zeros, zeros_like: Like ones and ones_like but producing arrays of 0’s instead\n",
    "\n",
    "empty, empty_like: Create new arrays by allocating new memory, but do not populate with any values like ones and zeros\n",
    "\n",
    "eye, identity: Create a square N x N identity matrix (1’s on the diagonal and 0’s elsewhere)"
   ]
  },
  {
   "cell_type": "code",
   "execution_count": 23,
   "id": "906291de",
   "metadata": {},
   "outputs": [
    {
     "data": {
      "text/plain": [
       "dtype('int32')"
      ]
     },
     "execution_count": 23,
     "metadata": {},
     "output_type": "execute_result"
    }
   ],
   "source": [
    "arr1 = np.array([1, 2, 3], dtype=np.float64)\n",
    "arr2 = np.array([1, 2, 3], dtype=np.int32)\n",
    "arr1.dtype\n",
    "arr2.dtype"
   ]
  },
  {
   "cell_type": "code",
   "execution_count": null,
   "id": "b7f540c5",
   "metadata": {},
   "outputs": [],
   "source": []
  }
 ],
 "metadata": {
  "kernelspec": {
   "display_name": "Python 3",
   "language": "python",
   "name": "python3"
  },
  "language_info": {
   "codemirror_mode": {
    "name": "ipython",
    "version": 3
   },
   "file_extension": ".py",
   "mimetype": "text/x-python",
   "name": "python",
   "nbconvert_exporter": "python",
   "pygments_lexer": "ipython3",
   "version": "3.13.1"
  }
 },
 "nbformat": 4,
 "nbformat_minor": 5
}
